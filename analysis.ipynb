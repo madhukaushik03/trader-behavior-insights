{
 "cells": [
  {
   "cell_type": "markdown",
   "id": "c15267c6",
   "metadata": {},
   "source": [
    "# Trader Performance vs Market Sentiment – Analysis Report\n",
    "\n",
    "**Objective:**  \n",
    "Explore the relationship between trader performance and Bitcoin market sentiment, uncover hidden behavioral patterns, and deliver insights to guide smarter trading strategies.\n",
    "\n",
    "**Data Sources:**  \n",
    "- Historical Trader Data from Hyperliquid  \n",
    "- Bitcoin Fear & Greed Index Dataset\n",
    "\n",
    "**Tools Used:**  \n",
    "Python, Pandas, Seaborn, Matplotlib\n"
   ]
  },
  {
   "cell_type": "code",
   "execution_count": 10,
   "id": "b9ce9818",
   "metadata": {},
   "outputs": [
    {
     "name": "stdout",
     "output_type": "stream",
     "text": [
      "Libraries loaded successfully!\n"
     ]
    }
   ],
   "source": [
    "import pandas as pd\n",
    "import numpy as np\n",
    "import matplotlib.pyplot as plt\n",
    "import seaborn as sns\n",
    "\n",
    "print(\"Libraries loaded successfully!\")\n"
   ]
  },
  {
   "cell_type": "markdown",
   "id": "e7951ad3",
   "metadata": {},
   "source": [
    "##  Load the Datasets\n",
    "\n",
    "We load the two datasets:\n",
    "- Trader Data containing trade-level metrics like PnL, size, direction, etc.\n",
    "- Market Sentiment Data (Fear/Greed Index) for each date\n"
   ]
  },
  {
   "cell_type": "code",
   "execution_count": 11,
   "id": "546ab976",
   "metadata": {},
   "outputs": [
    {
     "name": "stdout",
     "output_type": "stream",
     "text": [
      "📊 Trader Data:\n"
     ]
    },
    {
     "data": {
      "text/html": [
       "<div>\n",
       "<style scoped>\n",
       "    .dataframe tbody tr th:only-of-type {\n",
       "        vertical-align: middle;\n",
       "    }\n",
       "\n",
       "    .dataframe tbody tr th {\n",
       "        vertical-align: top;\n",
       "    }\n",
       "\n",
       "    .dataframe thead th {\n",
       "        text-align: right;\n",
       "    }\n",
       "</style>\n",
       "<table border=\"1\" class=\"dataframe\">\n",
       "  <thead>\n",
       "    <tr style=\"text-align: right;\">\n",
       "      <th></th>\n",
       "      <th>Account</th>\n",
       "      <th>Coin</th>\n",
       "      <th>Execution Price</th>\n",
       "      <th>Size Tokens</th>\n",
       "      <th>Size USD</th>\n",
       "      <th>Side</th>\n",
       "      <th>Timestamp IST</th>\n",
       "      <th>Start Position</th>\n",
       "      <th>Direction</th>\n",
       "      <th>Closed PnL</th>\n",
       "      <th>Transaction Hash</th>\n",
       "      <th>Order ID</th>\n",
       "      <th>Crossed</th>\n",
       "      <th>Fee</th>\n",
       "      <th>Trade ID</th>\n",
       "      <th>Timestamp</th>\n",
       "    </tr>\n",
       "  </thead>\n",
       "  <tbody>\n",
       "    <tr>\n",
       "      <th>0</th>\n",
       "      <td>0xae5eacaf9c6b9111fd53034a602c192a04e082ed</td>\n",
       "      <td>@107</td>\n",
       "      <td>7.9769</td>\n",
       "      <td>986.87</td>\n",
       "      <td>7872.16</td>\n",
       "      <td>BUY</td>\n",
       "      <td>02-12-2024 22:50</td>\n",
       "      <td>0.000000</td>\n",
       "      <td>Buy</td>\n",
       "      <td>0.0</td>\n",
       "      <td>0xec09451986a1874e3a980418412fcd0201f500c95bac...</td>\n",
       "      <td>52017706630</td>\n",
       "      <td>True</td>\n",
       "      <td>0.345404</td>\n",
       "      <td>8.950000e+14</td>\n",
       "      <td>1.730000e+12</td>\n",
       "    </tr>\n",
       "    <tr>\n",
       "      <th>1</th>\n",
       "      <td>0xae5eacaf9c6b9111fd53034a602c192a04e082ed</td>\n",
       "      <td>@107</td>\n",
       "      <td>7.9800</td>\n",
       "      <td>16.00</td>\n",
       "      <td>127.68</td>\n",
       "      <td>BUY</td>\n",
       "      <td>02-12-2024 22:50</td>\n",
       "      <td>986.524596</td>\n",
       "      <td>Buy</td>\n",
       "      <td>0.0</td>\n",
       "      <td>0xec09451986a1874e3a980418412fcd0201f500c95bac...</td>\n",
       "      <td>52017706630</td>\n",
       "      <td>True</td>\n",
       "      <td>0.005600</td>\n",
       "      <td>4.430000e+14</td>\n",
       "      <td>1.730000e+12</td>\n",
       "    </tr>\n",
       "    <tr>\n",
       "      <th>2</th>\n",
       "      <td>0xae5eacaf9c6b9111fd53034a602c192a04e082ed</td>\n",
       "      <td>@107</td>\n",
       "      <td>7.9855</td>\n",
       "      <td>144.09</td>\n",
       "      <td>1150.63</td>\n",
       "      <td>BUY</td>\n",
       "      <td>02-12-2024 22:50</td>\n",
       "      <td>1002.518996</td>\n",
       "      <td>Buy</td>\n",
       "      <td>0.0</td>\n",
       "      <td>0xec09451986a1874e3a980418412fcd0201f500c95bac...</td>\n",
       "      <td>52017706630</td>\n",
       "      <td>True</td>\n",
       "      <td>0.050431</td>\n",
       "      <td>6.600000e+14</td>\n",
       "      <td>1.730000e+12</td>\n",
       "    </tr>\n",
       "    <tr>\n",
       "      <th>3</th>\n",
       "      <td>0xae5eacaf9c6b9111fd53034a602c192a04e082ed</td>\n",
       "      <td>@107</td>\n",
       "      <td>7.9874</td>\n",
       "      <td>142.98</td>\n",
       "      <td>1142.04</td>\n",
       "      <td>BUY</td>\n",
       "      <td>02-12-2024 22:50</td>\n",
       "      <td>1146.558564</td>\n",
       "      <td>Buy</td>\n",
       "      <td>0.0</td>\n",
       "      <td>0xec09451986a1874e3a980418412fcd0201f500c95bac...</td>\n",
       "      <td>52017706630</td>\n",
       "      <td>True</td>\n",
       "      <td>0.050043</td>\n",
       "      <td>1.080000e+15</td>\n",
       "      <td>1.730000e+12</td>\n",
       "    </tr>\n",
       "    <tr>\n",
       "      <th>4</th>\n",
       "      <td>0xae5eacaf9c6b9111fd53034a602c192a04e082ed</td>\n",
       "      <td>@107</td>\n",
       "      <td>7.9894</td>\n",
       "      <td>8.73</td>\n",
       "      <td>69.75</td>\n",
       "      <td>BUY</td>\n",
       "      <td>02-12-2024 22:50</td>\n",
       "      <td>1289.488521</td>\n",
       "      <td>Buy</td>\n",
       "      <td>0.0</td>\n",
       "      <td>0xec09451986a1874e3a980418412fcd0201f500c95bac...</td>\n",
       "      <td>52017706630</td>\n",
       "      <td>True</td>\n",
       "      <td>0.003055</td>\n",
       "      <td>1.050000e+15</td>\n",
       "      <td>1.730000e+12</td>\n",
       "    </tr>\n",
       "  </tbody>\n",
       "</table>\n",
       "</div>"
      ],
      "text/plain": [
       "                                      Account  Coin  Execution Price  \\\n",
       "0  0xae5eacaf9c6b9111fd53034a602c192a04e082ed  @107           7.9769   \n",
       "1  0xae5eacaf9c6b9111fd53034a602c192a04e082ed  @107           7.9800   \n",
       "2  0xae5eacaf9c6b9111fd53034a602c192a04e082ed  @107           7.9855   \n",
       "3  0xae5eacaf9c6b9111fd53034a602c192a04e082ed  @107           7.9874   \n",
       "4  0xae5eacaf9c6b9111fd53034a602c192a04e082ed  @107           7.9894   \n",
       "\n",
       "   Size Tokens  Size USD Side     Timestamp IST  Start Position Direction  \\\n",
       "0       986.87   7872.16  BUY  02-12-2024 22:50        0.000000       Buy   \n",
       "1        16.00    127.68  BUY  02-12-2024 22:50      986.524596       Buy   \n",
       "2       144.09   1150.63  BUY  02-12-2024 22:50     1002.518996       Buy   \n",
       "3       142.98   1142.04  BUY  02-12-2024 22:50     1146.558564       Buy   \n",
       "4         8.73     69.75  BUY  02-12-2024 22:50     1289.488521       Buy   \n",
       "\n",
       "   Closed PnL                                   Transaction Hash     Order ID  \\\n",
       "0         0.0  0xec09451986a1874e3a980418412fcd0201f500c95bac...  52017706630   \n",
       "1         0.0  0xec09451986a1874e3a980418412fcd0201f500c95bac...  52017706630   \n",
       "2         0.0  0xec09451986a1874e3a980418412fcd0201f500c95bac...  52017706630   \n",
       "3         0.0  0xec09451986a1874e3a980418412fcd0201f500c95bac...  52017706630   \n",
       "4         0.0  0xec09451986a1874e3a980418412fcd0201f500c95bac...  52017706630   \n",
       "\n",
       "   Crossed       Fee      Trade ID     Timestamp  \n",
       "0     True  0.345404  8.950000e+14  1.730000e+12  \n",
       "1     True  0.005600  4.430000e+14  1.730000e+12  \n",
       "2     True  0.050431  6.600000e+14  1.730000e+12  \n",
       "3     True  0.050043  1.080000e+15  1.730000e+12  \n",
       "4     True  0.003055  1.050000e+15  1.730000e+12  "
      ]
     },
     "metadata": {},
     "output_type": "display_data"
    },
    {
     "name": "stdout",
     "output_type": "stream",
     "text": [
      "\n",
      " Market Sentiment Data:\n"
     ]
    },
    {
     "data": {
      "text/html": [
       "<div>\n",
       "<style scoped>\n",
       "    .dataframe tbody tr th:only-of-type {\n",
       "        vertical-align: middle;\n",
       "    }\n",
       "\n",
       "    .dataframe tbody tr th {\n",
       "        vertical-align: top;\n",
       "    }\n",
       "\n",
       "    .dataframe thead th {\n",
       "        text-align: right;\n",
       "    }\n",
       "</style>\n",
       "<table border=\"1\" class=\"dataframe\">\n",
       "  <thead>\n",
       "    <tr style=\"text-align: right;\">\n",
       "      <th></th>\n",
       "      <th>timestamp</th>\n",
       "      <th>value</th>\n",
       "      <th>classification</th>\n",
       "      <th>date</th>\n",
       "    </tr>\n",
       "  </thead>\n",
       "  <tbody>\n",
       "    <tr>\n",
       "      <th>0</th>\n",
       "      <td>1517463000</td>\n",
       "      <td>30</td>\n",
       "      <td>Fear</td>\n",
       "      <td>2018-02-01</td>\n",
       "    </tr>\n",
       "    <tr>\n",
       "      <th>1</th>\n",
       "      <td>1517549400</td>\n",
       "      <td>15</td>\n",
       "      <td>Extreme Fear</td>\n",
       "      <td>2018-02-02</td>\n",
       "    </tr>\n",
       "    <tr>\n",
       "      <th>2</th>\n",
       "      <td>1517635800</td>\n",
       "      <td>40</td>\n",
       "      <td>Fear</td>\n",
       "      <td>2018-02-03</td>\n",
       "    </tr>\n",
       "    <tr>\n",
       "      <th>3</th>\n",
       "      <td>1517722200</td>\n",
       "      <td>24</td>\n",
       "      <td>Extreme Fear</td>\n",
       "      <td>2018-02-04</td>\n",
       "    </tr>\n",
       "    <tr>\n",
       "      <th>4</th>\n",
       "      <td>1517808600</td>\n",
       "      <td>11</td>\n",
       "      <td>Extreme Fear</td>\n",
       "      <td>2018-02-05</td>\n",
       "    </tr>\n",
       "  </tbody>\n",
       "</table>\n",
       "</div>"
      ],
      "text/plain": [
       "    timestamp  value classification        date\n",
       "0  1517463000     30           Fear  2018-02-01\n",
       "1  1517549400     15   Extreme Fear  2018-02-02\n",
       "2  1517635800     40           Fear  2018-02-03\n",
       "3  1517722200     24   Extreme Fear  2018-02-04\n",
       "4  1517808600     11   Extreme Fear  2018-02-05"
      ]
     },
     "metadata": {},
     "output_type": "display_data"
    }
   ],
   "source": [
    "# Load the datasets\n",
    "trader_df = pd.read_csv('historical_data.csv')\n",
    "sentiment_df = pd.read_csv('fear_greed_index.csv')\n",
    "\n",
    "# Preview the data\n",
    "print(\"📊 Trader Data:\")\n",
    "display(trader_df.head())\n",
    "\n",
    "print(\"\\n Market Sentiment Data:\")\n",
    "display(sentiment_df.head())\n"
   ]
  },
  {
   "cell_type": "markdown",
   "id": "f5e03dbf",
   "metadata": {},
   "source": [
    "## Data Cleaning and Preprocessing\n",
    "\n",
    "- Converted timestamp columns to datetime format\n",
    "- Extracted clean `date` columns to match across datasets\n",
    "- Ensured both datasets align on the same date format for merging\n"
   ]
  },
  {
   "cell_type": "code",
   "execution_count": 12,
   "id": "8f829544",
   "metadata": {},
   "outputs": [
    {
     "name": "stdout",
     "output_type": "stream",
     "text": [
      "Trader dates: 0    2024-12-02\n",
      "1    2024-12-02\n",
      "2    2024-12-02\n",
      "3    2024-12-02\n",
      "4    2024-12-02\n",
      "Name: date, dtype: object\n",
      "Sentiment dates: 0    2018-02-01\n",
      "1    2018-02-02\n",
      "2    2018-02-03\n",
      "3    2018-02-04\n",
      "4    2018-02-05\n",
      "Name: date, dtype: object\n"
     ]
    }
   ],
   "source": [
    "# Convert trader timestamp to datetime and extract date\n",
    "trader_df['date'] = pd.to_datetime(trader_df['Timestamp IST'], format='%d-%m-%Y %H:%M').dt.date\n",
    "\n",
    "# Convert sentiment date to datetime (just to be sure)\n",
    "sentiment_df['date'] = pd.to_datetime(sentiment_df['date']).dt.date\n",
    "\n",
    "# Check if both have matched format\n",
    "print(\"Trader dates:\", trader_df['date'].head())\n",
    "print(\"Sentiment dates:\", sentiment_df['date'].head())\n"
   ]
  },
  {
   "cell_type": "code",
   "execution_count": 13,
   "id": "cd7777d8",
   "metadata": {},
   "outputs": [
    {
     "name": "stdout",
     "output_type": "stream",
     "text": [
      "📅 Trader Data Range: 2023-05-01 to 2025-05-01\n",
      "📅 Sentiment Data Range: 2018-02-01 to 2025-05-02\n"
     ]
    }
   ],
   "source": [
    "print(\"📅 Trader Data Range:\", trader_df['date'].min(), \"to\", trader_df['date'].max())\n",
    "print(\"📅 Sentiment Data Range:\", sentiment_df['date'].min(), \"to\", sentiment_df['date'].max())\n"
   ]
  },
  {
   "cell_type": "markdown",
   "id": "38975763",
   "metadata": {},
   "source": [
    "##  Merge Datasets by Date\n",
    "\n",
    "We merge the trader and sentiment datasets on `date` using an inner join.  \n",
    "This allows us to analyze each trade alongside the corresponding market sentiment.\n"
   ]
  },
  {
   "cell_type": "code",
   "execution_count": 14,
   "id": "119e9976",
   "metadata": {},
   "outputs": [
    {
     "name": "stdout",
     "output_type": "stream",
     "text": [
      "Merged rows: 211218\n"
     ]
    },
    {
     "data": {
      "text/html": [
       "<div>\n",
       "<style scoped>\n",
       "    .dataframe tbody tr th:only-of-type {\n",
       "        vertical-align: middle;\n",
       "    }\n",
       "\n",
       "    .dataframe tbody tr th {\n",
       "        vertical-align: top;\n",
       "    }\n",
       "\n",
       "    .dataframe thead th {\n",
       "        text-align: right;\n",
       "    }\n",
       "</style>\n",
       "<table border=\"1\" class=\"dataframe\">\n",
       "  <thead>\n",
       "    <tr style=\"text-align: right;\">\n",
       "      <th></th>\n",
       "      <th>Account</th>\n",
       "      <th>Coin</th>\n",
       "      <th>Execution Price</th>\n",
       "      <th>Size Tokens</th>\n",
       "      <th>Size USD</th>\n",
       "      <th>Side</th>\n",
       "      <th>Timestamp IST</th>\n",
       "      <th>Start Position</th>\n",
       "      <th>Direction</th>\n",
       "      <th>Closed PnL</th>\n",
       "      <th>Transaction Hash</th>\n",
       "      <th>Order ID</th>\n",
       "      <th>Crossed</th>\n",
       "      <th>Fee</th>\n",
       "      <th>Trade ID</th>\n",
       "      <th>Timestamp</th>\n",
       "      <th>date</th>\n",
       "      <th>classification</th>\n",
       "    </tr>\n",
       "  </thead>\n",
       "  <tbody>\n",
       "    <tr>\n",
       "      <th>0</th>\n",
       "      <td>0xae5eacaf9c6b9111fd53034a602c192a04e082ed</td>\n",
       "      <td>@107</td>\n",
       "      <td>7.9769</td>\n",
       "      <td>986.87</td>\n",
       "      <td>7872.16</td>\n",
       "      <td>BUY</td>\n",
       "      <td>02-12-2024 22:50</td>\n",
       "      <td>0.000000</td>\n",
       "      <td>Buy</td>\n",
       "      <td>0.0</td>\n",
       "      <td>0xec09451986a1874e3a980418412fcd0201f500c95bac...</td>\n",
       "      <td>52017706630</td>\n",
       "      <td>True</td>\n",
       "      <td>0.345404</td>\n",
       "      <td>8.950000e+14</td>\n",
       "      <td>1.730000e+12</td>\n",
       "      <td>2024-12-02</td>\n",
       "      <td>Extreme Greed</td>\n",
       "    </tr>\n",
       "    <tr>\n",
       "      <th>1</th>\n",
       "      <td>0xae5eacaf9c6b9111fd53034a602c192a04e082ed</td>\n",
       "      <td>@107</td>\n",
       "      <td>7.9800</td>\n",
       "      <td>16.00</td>\n",
       "      <td>127.68</td>\n",
       "      <td>BUY</td>\n",
       "      <td>02-12-2024 22:50</td>\n",
       "      <td>986.524596</td>\n",
       "      <td>Buy</td>\n",
       "      <td>0.0</td>\n",
       "      <td>0xec09451986a1874e3a980418412fcd0201f500c95bac...</td>\n",
       "      <td>52017706630</td>\n",
       "      <td>True</td>\n",
       "      <td>0.005600</td>\n",
       "      <td>4.430000e+14</td>\n",
       "      <td>1.730000e+12</td>\n",
       "      <td>2024-12-02</td>\n",
       "      <td>Extreme Greed</td>\n",
       "    </tr>\n",
       "    <tr>\n",
       "      <th>2</th>\n",
       "      <td>0xae5eacaf9c6b9111fd53034a602c192a04e082ed</td>\n",
       "      <td>@107</td>\n",
       "      <td>7.9855</td>\n",
       "      <td>144.09</td>\n",
       "      <td>1150.63</td>\n",
       "      <td>BUY</td>\n",
       "      <td>02-12-2024 22:50</td>\n",
       "      <td>1002.518996</td>\n",
       "      <td>Buy</td>\n",
       "      <td>0.0</td>\n",
       "      <td>0xec09451986a1874e3a980418412fcd0201f500c95bac...</td>\n",
       "      <td>52017706630</td>\n",
       "      <td>True</td>\n",
       "      <td>0.050431</td>\n",
       "      <td>6.600000e+14</td>\n",
       "      <td>1.730000e+12</td>\n",
       "      <td>2024-12-02</td>\n",
       "      <td>Extreme Greed</td>\n",
       "    </tr>\n",
       "    <tr>\n",
       "      <th>3</th>\n",
       "      <td>0xae5eacaf9c6b9111fd53034a602c192a04e082ed</td>\n",
       "      <td>@107</td>\n",
       "      <td>7.9874</td>\n",
       "      <td>142.98</td>\n",
       "      <td>1142.04</td>\n",
       "      <td>BUY</td>\n",
       "      <td>02-12-2024 22:50</td>\n",
       "      <td>1146.558564</td>\n",
       "      <td>Buy</td>\n",
       "      <td>0.0</td>\n",
       "      <td>0xec09451986a1874e3a980418412fcd0201f500c95bac...</td>\n",
       "      <td>52017706630</td>\n",
       "      <td>True</td>\n",
       "      <td>0.050043</td>\n",
       "      <td>1.080000e+15</td>\n",
       "      <td>1.730000e+12</td>\n",
       "      <td>2024-12-02</td>\n",
       "      <td>Extreme Greed</td>\n",
       "    </tr>\n",
       "    <tr>\n",
       "      <th>4</th>\n",
       "      <td>0xae5eacaf9c6b9111fd53034a602c192a04e082ed</td>\n",
       "      <td>@107</td>\n",
       "      <td>7.9894</td>\n",
       "      <td>8.73</td>\n",
       "      <td>69.75</td>\n",
       "      <td>BUY</td>\n",
       "      <td>02-12-2024 22:50</td>\n",
       "      <td>1289.488521</td>\n",
       "      <td>Buy</td>\n",
       "      <td>0.0</td>\n",
       "      <td>0xec09451986a1874e3a980418412fcd0201f500c95bac...</td>\n",
       "      <td>52017706630</td>\n",
       "      <td>True</td>\n",
       "      <td>0.003055</td>\n",
       "      <td>1.050000e+15</td>\n",
       "      <td>1.730000e+12</td>\n",
       "      <td>2024-12-02</td>\n",
       "      <td>Extreme Greed</td>\n",
       "    </tr>\n",
       "  </tbody>\n",
       "</table>\n",
       "</div>"
      ],
      "text/plain": [
       "                                      Account  Coin  Execution Price  \\\n",
       "0  0xae5eacaf9c6b9111fd53034a602c192a04e082ed  @107           7.9769   \n",
       "1  0xae5eacaf9c6b9111fd53034a602c192a04e082ed  @107           7.9800   \n",
       "2  0xae5eacaf9c6b9111fd53034a602c192a04e082ed  @107           7.9855   \n",
       "3  0xae5eacaf9c6b9111fd53034a602c192a04e082ed  @107           7.9874   \n",
       "4  0xae5eacaf9c6b9111fd53034a602c192a04e082ed  @107           7.9894   \n",
       "\n",
       "   Size Tokens  Size USD Side     Timestamp IST  Start Position Direction  \\\n",
       "0       986.87   7872.16  BUY  02-12-2024 22:50        0.000000       Buy   \n",
       "1        16.00    127.68  BUY  02-12-2024 22:50      986.524596       Buy   \n",
       "2       144.09   1150.63  BUY  02-12-2024 22:50     1002.518996       Buy   \n",
       "3       142.98   1142.04  BUY  02-12-2024 22:50     1146.558564       Buy   \n",
       "4         8.73     69.75  BUY  02-12-2024 22:50     1289.488521       Buy   \n",
       "\n",
       "   Closed PnL                                   Transaction Hash     Order ID  \\\n",
       "0         0.0  0xec09451986a1874e3a980418412fcd0201f500c95bac...  52017706630   \n",
       "1         0.0  0xec09451986a1874e3a980418412fcd0201f500c95bac...  52017706630   \n",
       "2         0.0  0xec09451986a1874e3a980418412fcd0201f500c95bac...  52017706630   \n",
       "3         0.0  0xec09451986a1874e3a980418412fcd0201f500c95bac...  52017706630   \n",
       "4         0.0  0xec09451986a1874e3a980418412fcd0201f500c95bac...  52017706630   \n",
       "\n",
       "   Crossed       Fee      Trade ID     Timestamp        date classification  \n",
       "0     True  0.345404  8.950000e+14  1.730000e+12  2024-12-02  Extreme Greed  \n",
       "1     True  0.005600  4.430000e+14  1.730000e+12  2024-12-02  Extreme Greed  \n",
       "2     True  0.050431  6.600000e+14  1.730000e+12  2024-12-02  Extreme Greed  \n",
       "3     True  0.050043  1.080000e+15  1.730000e+12  2024-12-02  Extreme Greed  \n",
       "4     True  0.003055  1.050000e+15  1.730000e+12  2024-12-02  Extreme Greed  "
      ]
     },
     "metadata": {},
     "output_type": "display_data"
    }
   ],
   "source": [
    "# Perform the merge\n",
    "merged_df = pd.merge(\n",
    "    trader_df,\n",
    "    sentiment_df[['date', 'classification']],  # only keep date + sentiment label\n",
    "    on='date',\n",
    "    how='inner'   # inner join keeps only overlapping dates\n",
    ")\n",
    "\n",
    "# Quick check\n",
    "print(\"Merged rows:\", len(merged_df))\n",
    "display(merged_df.head())\n"
   ]
  },
  {
   "cell_type": "markdown",
   "id": "32ad4ebb",
   "metadata": {},
   "source": [
    "##  Trader Performance Analysis by Sentiment\n",
    "\n",
    "We calculate:\n",
    "- Average **Closed PnL** by sentiment\n",
    "- Average **Trade Size (USD)** by sentiment\n",
    "- Total **Number of Trades** in each sentiment category\n",
    "\n",
    "This gives a baseline idea of profitability and behavior under each market mood.\n"
   ]
  },
  {
   "cell_type": "code",
   "execution_count": 15,
   "id": "af717fb1",
   "metadata": {},
   "outputs": [
    {
     "name": "stdout",
     "output_type": "stream",
     "text": [
      "Average Closed PnL by Sentiment:\n"
     ]
    },
    {
     "data": {
      "text/plain": [
       "classification\n",
       "Extreme Greed    67.892861\n",
       "Fear             54.290400\n",
       "Greed            42.743559\n",
       "Extreme Fear     34.537862\n",
       "Neutral          34.307718\n",
       "Name: Closed PnL, dtype: float64"
      ]
     },
     "metadata": {},
     "output_type": "display_data"
    },
    {
     "name": "stdout",
     "output_type": "stream",
     "text": [
      "Average Trade Size (USD) by Sentiment:\n"
     ]
    },
    {
     "data": {
      "text/plain": [
       "classification\n",
       "Fear             7816.109931\n",
       "Greed            5736.884375\n",
       "Extreme Fear     5349.731843\n",
       "Neutral          4782.732661\n",
       "Extreme Greed    3112.251565\n",
       "Name: Size USD, dtype: float64"
      ]
     },
     "metadata": {},
     "output_type": "display_data"
    },
    {
     "name": "stdout",
     "output_type": "stream",
     "text": [
      "Number of Trades under each Sentiment:\n"
     ]
    },
    {
     "data": {
      "text/plain": [
       "classification\n",
       "Fear             61837\n",
       "Greed            50303\n",
       "Extreme Greed    39992\n",
       "Neutral          37686\n",
       "Extreme Fear     21400\n",
       "Name: count, dtype: int64"
      ]
     },
     "metadata": {},
     "output_type": "display_data"
    }
   ],
   "source": [
    "avg_pnl = merged_df.groupby('classification')['Closed PnL'].mean().sort_values(ascending=False)\n",
    "print(\"Average Closed PnL by Sentiment:\")\n",
    "display(avg_pnl)\n",
    "avg_size = merged_df.groupby('classification')['Size USD'].mean().sort_values(ascending=False)\n",
    "print(\"Average Trade Size (USD) by Sentiment:\")\n",
    "display(avg_size)\n",
    "trade_counts = merged_df['classification'].value_counts()\n",
    "print(\"Number of Trades under each Sentiment:\")\n",
    "display(trade_counts)\n"
   ]
  },
  {
   "cell_type": "markdown",
   "id": "b285b161",
   "metadata": {},
   "source": [
    "##  Visualize PnL Distribution by Sentiment\n",
    "\n",
    "Boxplots show the variability and volatility of profits/losses across different sentiment categories.\n"
   ]
  },
  {
   "cell_type": "code",
   "execution_count": null,
   "id": "351a87f4",
   "metadata": {},
   "outputs": [
    {
     "name": "stderr",
     "output_type": "stream",
     "text": [
      "C:\\Users\\as\\AppData\\Local\\Temp\\ipykernel_6540\\1463417074.py:5: FutureWarning: \n",
      "\n",
      "Passing `palette` without assigning `hue` is deprecated and will be removed in v0.14.0. Assign the `x` variable to `hue` and set `legend=False` for the same effect.\n",
      "\n",
      "  sns.boxplot(data=merged_df, x='classification', y='Closed PnL', palette='coolwarm')\n",
      "C:\\Users\\as\\AppData\\Local\\Temp\\ipykernel_6540\\1463417074.py:12: UserWarning: Glyph 128230 (\\N{PACKAGE}) missing from font(s) DejaVu Sans.\n",
      "  plt.tight_layout()\n",
      "c:\\Users\\as\\AppData\\Local\\Programs\\Python\\Python312\\Lib\\site-packages\\IPython\\core\\pylabtools.py:170: UserWarning: Glyph 128230 (\\N{PACKAGE}) missing from font(s) DejaVu Sans.\n",
      "  fig.canvas.print_figure(bytes_io, **kw)\n"
     ]
    },
    {
     "data": {
      "image/png": "[encoded data removed]",
      "text/plain": [
       "<Figure size 1200x600 with 1 Axes>"
      ]
     },
     "metadata": {},
     "output_type": "display_data"
    }
   ],
   "source": [
    "import seaborn as sns\n",
    "import matplotlib.pyplot as plt\n",
    "\n",
    "plt.figure(figsize=(12, 6))\n",
    "sns.boxplot(data=merged_df, x='classification', y='Closed PnL', palette='coolwarm')\n",
    "\n",
    "plt.title('PnL Distribution by Market Sentiment')\n",
    "plt.ylabel('Closed PnL')\n",
    "plt.xlabel('Market Sentiment')\n",
    "plt.xticks(rotation=45)\n",
    "plt.grid(True)\n",
    "plt.tight_layout()\n",
    "plt.show()\n"
   ]
  },
  {
   "cell_type": "code",
   "execution_count": null,
   "id": "400b2cad",
   "metadata": {},
   "outputs": [
    {
     "name": "stdout",
     "output_type": "stream",
     "text": [
      "Index(['Account', 'Coin', 'Execution Price', 'Size Tokens', 'Size USD', 'Side',\n",
      "       'Timestamp IST', 'Start Position', 'Direction', 'Closed PnL',\n",
      "       'Transaction Hash', 'Order ID', 'Crossed', 'Fee', 'Trade ID',\n",
      "       'Timestamp', 'date', 'classification'],\n",
      "      dtype='object')\n"
     ]
    }
   ],
   "source": [
    "print(merged_df.columns)"
   ]
  },
  {
   "cell_type": "markdown",
   "id": "b3c10742",
   "metadata": {},
   "source": [
    "## Win Rate by Market Sentiment\n",
    "\n",
    "We calculate the percentage of profitable trades (`Closed PnL > 0`) for each sentiment.  \n",
    "This tells us which market moods lead to more winning trades.\n"
   ]
  },
  {
   "cell_type": "code",
   "execution_count": 20,
   "id": "f188e2db",
   "metadata": {},
   "outputs": [
    {
     "name": "stdout",
     "output_type": "stream",
     "text": [
      " Win Rate by Sentiment (% of profitable trades):\n"
     ]
    },
    {
     "data": {
      "text/plain": [
       "classification\n",
       "Extreme Greed    46.494299\n",
       "Fear             42.076750\n",
       "Neutral          39.699093\n",
       "Greed            38.482794\n",
       "Extreme Fear     37.060748\n",
       "Name: Win, dtype: float64"
      ]
     },
     "metadata": {},
     "output_type": "display_data"
    }
   ],
   "source": [
    "# Create a 'Win' column: 1 if profit > 0, else 0\n",
    "merged_df['Win'] = merged_df['Closed PnL'].apply(lambda x: 1 if x > 0 else 0)\n",
    "\n",
    "# Calculate win rate per sentiment\n",
    "win_rate = merged_df.groupby('classification')['Win'].mean().sort_values(ascending=False) * 100\n",
    "\n",
    "# Show as %\n",
    "print(\" Win Rate by Sentiment (% of profitable trades):\")\n",
    "display(win_rate)\n"
   ]
  },
  {
   "cell_type": "markdown",
   "id": "36c9a092",
   "metadata": {},
   "source": [
    "##  Visualize Win Rate\n",
    "\n",
    "A bar plot shows the proportion of successful trades under each sentiment classification.\n"
   ]
  },
  {
   "cell_type": "code",
   "execution_count": 21,
   "id": "b18f24d4",
   "metadata": {},
   "outputs": [
    {
     "name": "stderr",
     "output_type": "stream",
     "text": [
      "C:\\Users\\as\\AppData\\Local\\Temp\\ipykernel_6540\\2552322981.py:2: FutureWarning: \n",
      "\n",
      "Passing `palette` without assigning `hue` is deprecated and will be removed in v0.14.0. Assign the `x` variable to `hue` and set `legend=False` for the same effect.\n",
      "\n",
      "  sns.barplot(x=win_rate.index, y=win_rate.values, palette='viridis')\n",
      "C:\\Users\\as\\AppData\\Local\\Temp\\ipykernel_6540\\2552322981.py:9: UserWarning: Glyph 9989 (\\N{WHITE HEAVY CHECK MARK}) missing from font(s) DejaVu Sans.\n",
      "  plt.tight_layout()\n",
      "c:\\Users\\as\\AppData\\Local\\Programs\\Python\\Python312\\Lib\\site-packages\\IPython\\core\\pylabtools.py:170: UserWarning: Glyph 9989 (\\N{WHITE HEAVY CHECK MARK}) missing from font(s) DejaVu Sans.\n",
      "  fig.canvas.print_figure(bytes_io, **kw)\n"
     ]
    },
    {
     "data": {
      "image/png": "[encoded data removed]",
      "text/plain": [
       "<Figure size 1000x600 with 1 Axes>"
      ]
     },
     "metadata": {},
     "output_type": "display_data"
    }
   ],
   "source": [
    "plt.figure(figsize=(10, 6))\n",
    "sns.barplot(x=win_rate.index, y=win_rate.values, palette='viridis')\n",
    "\n",
    "plt.title('✅ Win Rate by Market Sentiment')\n",
    "plt.ylabel('Win Rate (%)')\n",
    "plt.xlabel('Market Sentiment')\n",
    "plt.ylim(0, 100)\n",
    "plt.grid(True)\n",
    "plt.tight_layout()\n",
    "plt.show()\n"
   ]
  },
  {
   "cell_type": "markdown",
   "id": "17e8f0cf",
   "metadata": {},
   "source": [
    "## Total Fee Paid by Sentiment\n",
    "\n",
    "This step reveals how much fee traders pay under different sentiments — possibly due to volume or urgency of trading.\n"
   ]
  },
  {
   "cell_type": "code",
   "execution_count": 22,
   "id": "bf95be70",
   "metadata": {},
   "outputs": [
    {
     "name": "stderr",
     "output_type": "stream",
     "text": [
      "C:\\Users\\as\\AppData\\Local\\Temp\\ipykernel_6540\\1154762598.py:4: FutureWarning: \n",
      "\n",
      "Passing `palette` without assigning `hue` is deprecated and will be removed in v0.14.0. Assign the `x` variable to `hue` and set `legend=False` for the same effect.\n",
      "\n",
      "  sns.barplot(x=fee_by_sentiment.index, y=fee_by_sentiment.values, palette='coolwarm')\n",
      "C:\\Users\\as\\AppData\\Local\\Temp\\ipykernel_6540\\1154762598.py:10: UserWarning: Glyph 128184 (\\N{MONEY WITH WINGS}) missing from font(s) DejaVu Sans.\n",
      "  plt.tight_layout()\n",
      "c:\\Users\\as\\AppData\\Local\\Programs\\Python\\Python312\\Lib\\site-packages\\IPython\\core\\pylabtools.py:170: UserWarning: Glyph 128184 (\\N{MONEY WITH WINGS}) missing from font(s) DejaVu Sans.\n",
      "  fig.canvas.print_figure(bytes_io, **kw)\n"
     ]
    },
    {
     "data": {
      "image/png": "[encoded data removed]",
      "text/plain": [
       "<Figure size 1000x600 with 1 Axes>"
      ]
     },
     "metadata": {},
     "output_type": "display_data"
    }
   ],
   "source": [
    "fee_by_sentiment = merged_df.groupby('classification')['Fee'].sum().sort_values(ascending=False)\n",
    "\n",
    "plt.figure(figsize=(10, 6))\n",
    "sns.barplot(x=fee_by_sentiment.index, y=fee_by_sentiment.values, palette='coolwarm')\n",
    "\n",
    "plt.title('💸 Total Trading Fee Paid by Sentiment')\n",
    "plt.ylabel('Total Fee Paid')\n",
    "plt.xlabel('Market Sentiment')\n",
    "plt.grid(True)\n",
    "plt.tight_layout()\n",
    "plt.show()\n"
   ]
  },
  {
   "cell_type": "markdown",
   "id": "7867623f",
   "metadata": {},
   "source": [
    "## PnL vs Trade Size by Sentiment\n",
    "\n",
    "Scatter plot shows how trade size (in USD) relates to PnL, with color coded sentiment.\n",
    "Helps visualize profit distribution in high/low-volume trades.\n"
   ]
  },
  {
   "cell_type": "code",
   "execution_count": 23,
   "id": "b6e00405",
   "metadata": {},
   "outputs": [
    {
     "name": "stderr",
     "output_type": "stream",
     "text": [
      "C:\\Users\\as\\AppData\\Local\\Temp\\ipykernel_6540\\3474598905.py:9: UserWarning: Glyph 128201 (\\N{CHART WITH DOWNWARDS TREND}) missing from font(s) DejaVu Sans.\n",
      "  plt.tight_layout()\n",
      "c:\\Users\\as\\AppData\\Local\\Programs\\Python\\Python312\\Lib\\site-packages\\IPython\\core\\pylabtools.py:170: UserWarning: Glyph 128201 (\\N{CHART WITH DOWNWARDS TREND}) missing from font(s) DejaVu Sans.\n",
      "  fig.canvas.print_figure(bytes_io, **kw)\n"
     ]
    },
    {
     "data": {
      "image/png": "[encoded data removed]",
      "text/plain": [
       "<Figure size 1200x600 with 1 Axes>"
      ]
     },
     "metadata": {},
     "output_type": "display_data"
    }
   ],
   "source": [
    "plt.figure(figsize=(12, 6))\n",
    "sns.scatterplot(data=merged_df.sample(3000, random_state=42),  # sample to reduce overload\n",
    "                x='Size USD', y='Closed PnL', hue='classification', alpha=0.6)\n",
    "\n",
    "plt.title('📉 PnL vs Trade Size (USD) by Sentiment')\n",
    "plt.xlabel('Trade Size (USD)')\n",
    "plt.ylabel('Closed PnL')\n",
    "plt.grid(True)\n",
    "plt.tight_layout()\n",
    "plt.show()\n"
   ]
  },
  {
   "cell_type": "markdown",
   "id": "96615c0f",
   "metadata": {},
   "source": [
    "# Final Summary & Insights\n",
    "\n",
    "We observed that:\n",
    "- **Extreme Greed** yields the highest average PnL and win rate\n",
    "- **Fear** sees the largest trade sizes and high volatility\n",
    "- **Extreme Fear** correlates with the lowest performance\n",
    "\n",
    "Conclusion: Traders should be aggressive (but cautious) during *Extreme Greed*, and manage risk strictly during *Fear* or *Extreme Fear* phases.\n",
    "\n",
    "This analysis helps identify optimal trading strategies based on real market psychology.\n"
   ]
  },
  {
   "cell_type": "markdown",
   "id": "b0c4b9fe",
   "metadata": {},
   "source": [
    "# Internship Pre-task Summary Report\n",
    "## Project Title:\n",
    "\n",
    "Analyzing the Relationship Between Trader Performance and Market Sentiment\n",
    "\n",
    "## Datasets Used:\n",
    "\n",
    "Historical Trader Data from Hyperliquid\n",
    "– Columns: Account, Coin, Execution Price, Size (USD), Side, Timestamp, Closed PnL, Fee, etc.\n",
    "\n",
    "Bitcoin Fear/Greed Index\n",
    "– Columns: Date, Sentiment Classification (Fear, Greed, etc.)\n",
    "\n",
    "##  Objective:\n",
    "\n",
    "Explore how market sentiment affects trader performance, uncover behavioral patterns, and deliver insights that can guide smarter trading decisions.\n",
    "\n",
    "## Data Processing Steps:\n",
    "\n",
    "Loaded and explored both datasets using Python (pandas, seaborn, matplotlib)\n",
    "\n",
    "Aligned both datasets on common date fields\n",
    "\n",
    "Merged on date to link every trade with the corresponding market sentiment\n",
    "\n",
    "## Key Insights & Visualizations:\n",
    "\n",
    "1. Trader Performance (Avg Closed PnL):\n",
    "\n",
    "Extreme Greed days yielded the highest average profits\n",
    "\n",
    "Fear also led to good returns, while Extreme Fear and Neutral saw the lowest\n",
    "\n",
    "2. Trade Behavior (Avg Trade Size):\n",
    "\n",
    "Traders placed larger trades during Fear and Greed\n",
    "\n",
    "Surprisingly, Extreme Greed trades were smaller but more profitable\n",
    "\n",
    "3. Win Rate (Profitable Trades %):\n",
    "\n",
    "Highest win rate in Extreme Greed (~46.5%)\n",
    "\n",
    "Lowest win rate in Extreme Fear (~37%)\n",
    "\n",
    "Indicates better trade outcomes during bullish optimism\n",
    "\n",
    "4. Fee Analysis:\n",
    "\n",
    "Traders paid the most in fees during Fear\n",
    "\n",
    "Possibly due to increased trade volume or urgency\n",
    "\n",
    "5. Volatility & Risk (Boxplot of PnL): \n",
    "\n",
    "Fear and Greed show high variance — some trades very profitable, others deeply negative\n",
    "\n",
    "Extreme Greed appears more consistent\n",
    "\n",
    "6. Trade Size vs PnL (Scatter):\n",
    "\n",
    "Larger trades don’t always yield higher profits\n",
    "\n",
    "Sentiment influences trade outcomes more than trade size alone\n",
    "\n",
    "## Strategy Recommendations: \n",
    "\n",
    "Traders should capitalize on Extreme Greed phases – more consistent wins and profits\n",
    "\n",
    "During Extreme Fear, limit risk and avoid overtrading\n",
    "\n",
    "Monitor sentiment closely – aligning strategies with market psychology improves decision-making\n",
    "\n",
    "## Conclusion: \n",
    "\n",
    "There is a clear and measurable relationship between market sentiment and trader outcomes.\n",
    "Strategic behavior changes based on sentiment (e.g., scaling size, managing risk) can lead to better performance."
   ]
  }
 ],
 "metadata": {
  "kernelspec": {
   "display_name": "Python 3",
   "language": "python",
   "name": "python3"
  },
  "language_info": {
   "codemirror_mode": {
    "name": "ipython",
    "version": 3
   },
   "file_extension": ".py",
   "mimetype": "text/x-python",
   "name": "python",
   "nbconvert_exporter": "python",
   "pygments_lexer": "ipython3",
   "version": "3.12.5"
  }
 },
 "nbformat": 4,
 "nbformat_minor": 5
}
